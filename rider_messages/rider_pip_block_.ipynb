{
 "cells": [
  {
   "cell_type": "code",
   "execution_count": 25,
   "metadata": {},
   "outputs": [],
   "source": [
    "from postgres_connect import *\n",
    "import requests"
   ]
  },
  {
   "cell_type": "code",
   "execution_count": 22,
   "metadata": {},
   "outputs": [],
   "source": [
    "query = '''\n",
    "select r.rider_id, node_node_id\n",
    "from rider_pip \n",
    "left join application_db.rider as r on r.locus_rider_id = rider_pip.rider_id\n",
    "where \n",
    "        pip_status = 'closed' \n",
    "and     pip_result = 'failed'\n",
    "order by node_node_id\n",
    "'''"
   ]
  },
  {
   "cell_type": "code",
   "execution_count": 23,
   "metadata": {},
   "outputs": [
    {
     "name": "stdout",
     "output_type": "stream",
     "text": [
      "Tunnel Started\n",
      "Connection Made\n"
     ]
    }
   ],
   "source": [
    "path = '/Users/apple/Documents/tunnel-ssh.cer'\n",
    "# printthis('yes')\n",
    "conn = get_conn('Yes',path)\n",
    "df_block = pd.read_sql(query,conn)\n",
    "conn.close()"
   ]
  },
  {
   "cell_type": "code",
   "execution_count": 36,
   "metadata": {},
   "outputs": [
    {
     "name": "stdout",
     "output_type": "stream",
     "text": [
      "Request for rider_id 3182 - Success\n",
      "Request for rider_id 1780 - Partial Success\n",
      "    Rider ID: 1780, Rider Name: Pavan Kumar R, Error Message: Some error occurred\n",
      "Request for rider_id 3281 - Success\n",
      "Request for rider_id 2130 - Success\n",
      "Request for rider_id 3193 - Success\n",
      "Request for rider_id 3509 - Success\n",
      "Request for rider_id 3195 - Success\n",
      "Request for rider_id 2825 - Success\n",
      "Request for rider_id 1339 - Partial Success\n",
      "    Rider ID: 1339, Rider Name: Sunil Gadge, Error Message: Some error occurred\n",
      "Request for rider_id 3137 - Success\n",
      "Request for rider_id 3508 - Success\n",
      "Request for rider_id 3507 - Success\n",
      "Request for rider_id 3480 - Success\n",
      "Request for rider_id 3292 - Success\n",
      "Request for rider_id 1114 - Partial Success\n",
      "    Rider ID: 1114, Rider Name: Himanshu Pal, Error Message: Some error occurred\n",
      "Request for rider_id 2203 - Partial Success\n",
      "    Rider ID: 2203, Rider Name: Ankit Kumar , Error Message: Some error occurred\n",
      "Request for rider_id 1177 - Success\n",
      "Request for rider_id 3353 - Success\n",
      "Request for rider_id 3022 - Success\n",
      "Request for rider_id 2822 - Success\n",
      "Request for rider_id 3291 - Success\n",
      "Request for rider_id 3462 - Success\n",
      "Request for rider_id 3386 - Success\n",
      "Request for rider_id 3146 - Success\n",
      "Request for rider_id 3437 - Success\n",
      "Request for rider_id 3054 - Success\n",
      "Request for rider_id 2618 - Success\n",
      "Request for rider_id 3421 - Success\n",
      "Request for rider_id 3487 - Success\n",
      "Request for rider_id 3403 - Success\n",
      "Request for rider_id 1130 - Partial Success\n",
      "    Rider ID: 1130, Rider Name: Amardeep Bhagat, Error Message: Some error occurred\n",
      "Request for rider_id 2960 - Success\n",
      "Request for rider_id 3499 - Success\n",
      "Request for rider_id 3284 - Success\n",
      "Request for rider_id 3296 - Success\n",
      "Request for rider_id 3468 - Success\n",
      "Request for rider_id 3294 - Success\n",
      "Request for rider_id 3297 - Success\n",
      "Request for rider_id 3152 - Success\n",
      "Request for rider_id 2219 - Success\n",
      "Request for rider_id 1708 - Success\n",
      "Rider blocking completed updating database\n"
     ]
    }
   ],
   "source": [
    "url = 'http://grow-simplee-nlb-prod-a264c46571856f67.elb.ap-south-1.amazonaws.com:9001/rider/delist'\n",
    "headers_base = {\n",
    "    'name': 'void',  # Change this value if needed\n",
    "    'Content-Type': 'application/json',\n",
    "}\n",
    "\n",
    "for index, row in df_block.iterrows():\n",
    "    headers = headers_base.copy()\n",
    "    headers['node_id'] = str(row['node_node_id'])\n",
    "\n",
    "    data = {\n",
    "        'delistType': 'BLACKLIST',\n",
    "        'riderIds': [str(row['rider_id'])],\n",
    "    }\n",
    "\n",
    "    response = requests.put(url, headers=headers, json=data)\n",
    "\n",
    "    try:\n",
    "        json_response = response.json()\n",
    "        message = json_response.get('message', '')\n",
    "        print(f\"Request for rider_id {row['rider_id']} - {message}\")\n",
    "\n",
    "        data = json_response.get('data', [])\n",
    "        for item in data:\n",
    "            rider_id = item.get('riderId', '')\n",
    "            rider_name = item.get('riderName', '')\n",
    "            error_message = item.get('message', '')\n",
    "            print(f\"    Rider ID: {rider_id}, Rider Name: {rider_name}, Error Message: {error_message}\")\n",
    "\n",
    "    except ValueError:\n",
    "        print(\"Invalid JSON response\")\n",
    "    \n",
    "print(\"Rider blocking completed updating database\")\n"
   ]
  },
  {
   "cell_type": "code",
   "execution_count": 32,
   "metadata": {},
   "outputs": [
    {
     "name": "stdout",
     "output_type": "stream",
     "text": [
      "Tunnel Started\n",
      "Connection Made\n",
      "Updated all closed status to final\n",
      "Deleted blocked riders from running pip\n",
      "Updated all closed status to final\n"
     ]
    }
   ],
   "source": [
    "conn = get_conn('Yes',path)\n",
    "cursor = conn.cursor()\n",
    "update_query1 = '''\n",
    "    UPDATE rider_pip\n",
    "    SET pip_status = 'final'\n",
    "    WHERE pip_status = 'closed';\n",
    "'''\n",
    "update_query2 = '''\n",
    "delete from rider_pip where pip_status = 'running' and rider_id in \n",
    "(select rider_id from rider_pip where pip_status = 'final' and pip_result = 'failed')\n",
    "'''\n",
    "cursor.execute(update_query1)\n",
    "print(\"Updated all closed status to final\")\n",
    "cursor.execute(update_query2)\n",
    "print(\"Deleted blocked riders from running pip\")\n",
    "conn.commit()\n",
    "cursor.close()\n",
    "conn.close()\n",
    "print(\"Updated all closed status to final\")"
   ]
  }
 ],
 "metadata": {
  "kernelspec": {
   "display_name": ".venv",
   "language": "python",
   "name": "python3"
  },
  "language_info": {
   "codemirror_mode": {
    "name": "ipython",
    "version": 3
   },
   "file_extension": ".py",
   "mimetype": "text/x-python",
   "name": "python",
   "nbconvert_exporter": "python",
   "pygments_lexer": "ipython3",
   "version": "3.9.6"
  }
 },
 "nbformat": 4,
 "nbformat_minor": 2
}
