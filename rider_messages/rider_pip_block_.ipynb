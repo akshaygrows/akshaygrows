{
 "cells": [
  {
   "cell_type": "code",
   "execution_count": 2,
   "metadata": {},
   "outputs": [],
   "source": [
    "from postgres_connect import *\n",
    "import requests\n",
    "import logging"
   ]
  },
  {
   "cell_type": "markdown",
   "metadata": {},
   "source": [
    "Getting Data"
   ]
  },
  {
   "cell_type": "code",
   "execution_count": 6,
   "metadata": {},
   "outputs": [],
   "source": [
    "query = '''\n",
    "select r.rider_id, node_node_id, rider_pip.rider_name, rider_pip.hub, rider_pip.shipping_city as city, r.locus_rider_id\n",
    "from rider_pip \n",
    "left join application_db.rider as r on r.locus_rider_id = rider_pip.rider_id\n",
    "where \n",
    "        pip_status = 'closed' \n",
    "and     pip_result = 'failed'\n",
    "and     pip_date in ('2024-03-04','2024-03-11')\n",
    "order by node_node_id\n",
    "'''"
   ]
  },
  {
   "cell_type": "markdown",
   "metadata": {},
   "source": [
    "query2 = '''\n",
    "select \n",
    "    rider_id, node_node_id\n",
    "from application_db.rider\n",
    "where locus_rider_id in (\n",
    "'Gourav_8527634900_020',\n",
    "'kaushal_9793911790_020',\n",
    "'vikash_8954320179_020',\n",
    "'AJAD_9873736031_011',\n",
    "'Deepak_kumar_20',\n",
    "'nikhil_9263902787_020',\n",
    "'ujjawal__20',\n",
    "'Deep_9911771714_020',\n",
    "'sunil_ram_20',\n",
    "'Sandeep_Kumar__20',\n",
    "'Darshan_8595785494_020',\n",
    "'Deepak_8826262741_020',\n",
    "'Jasveer_Singh_20',\n",
    "'Praveen_kumar_20',\n",
    "'Haricharan_yadav_20',\n",
    "'Sourabh_9911894322_020',\n",
    "'Manoj_8076388056_020',\n",
    "'Ajay_kumar_20',\n",
    "'PRINCE_9654005272_020',\n",
    "'Yogesh_kumar_20',\n",
    "'Rohit_8510903003_020',\n",
    "'Aashish_nagar_20',\n",
    "'Harsh_kumar_20',\n",
    "'ankur_8368060526_020',\n",
    "'ranjeet_7838421627_020',\n",
    "'RAM_9528858863_020',\n",
    "'Ravi_7838457674_020',\n",
    "'Abhishek_chaturvedi__20',\n",
    "'karan_20',\n",
    "'sushant__20',\n",
    "'Faheem_20',\n",
    "'Ajay_6397825082_020',\n",
    "'priyanshu_20_1700983605',\n",
    "'jeetu_Rajput__20_1700896015',\n",
    "'Vikas_singh_20',\n",
    "'sourabh_porwal_20',\n",
    "'Sumit_kashyap_20',\n",
    "'Rahul_9205549489_020',\n",
    "'Manoj__13',\n",
    "'Bambam PS',\n",
    "'Rahul kapoor PS',\n",
    "'Mohd Gulab',\n",
    "'Sagar bhan RD',\n",
    "'Ram Autar Rapydex',\n",
    "'Kamal Jain',\n",
    "'Sachin Bhan RD'\n",
    ")\n",
    "'''"
   ]
  },
  {
   "cell_type": "code",
   "execution_count": 3,
   "metadata": {},
   "outputs": [
    {
     "name": "stdout",
     "output_type": "stream",
     "text": [
      "Connection Made\n"
     ]
    },
    {
     "ename": "NameError",
     "evalue": "name 'query' is not defined",
     "output_type": "error",
     "traceback": [
      "\u001b[0;31m---------------------------------------------------------------------------\u001b[0m",
      "\u001b[0;31mNameError\u001b[0m                                 Traceback (most recent call last)",
      "Cell \u001b[0;32mIn[3], line 4\u001b[0m\n\u001b[1;32m      2\u001b[0m \u001b[38;5;66;03m# printthis('yes')\u001b[39;00m\n\u001b[1;32m      3\u001b[0m conn \u001b[38;5;241m=\u001b[39m get_conn(\u001b[38;5;124m'\u001b[39m\u001b[38;5;124mNo\u001b[39m\u001b[38;5;124m'\u001b[39m,path)\n\u001b[0;32m----> 4\u001b[0m df_block \u001b[38;5;241m=\u001b[39m pd\u001b[38;5;241m.\u001b[39mread_sql(\u001b[43mquery\u001b[49m,conn)\n\u001b[1;32m      5\u001b[0m conn\u001b[38;5;241m.\u001b[39mclose()\n",
      "\u001b[0;31mNameError\u001b[0m: name 'query' is not defined"
     ]
    }
   ],
   "source": [
    "path = 'tunnel-ssh.cer'\n",
    "# printthis('yes')\n",
    "conn = get_conn('No',path)\n",
    "df_block = pd.read_sql(query,conn)\n",
    "conn.close()"
   ]
  },
  {
   "cell_type": "code",
   "execution_count": 5,
   "metadata": {},
   "outputs": [
    {
     "name": "stdout",
     "output_type": "stream",
     "text": [
      "Connection Made\n"
     ]
    },
    {
     "name": "stderr",
     "output_type": "stream",
     "text": [
      "/var/folders/jj/w1s7wr2s7k1b9_vrfwty09pw0000gn/T/ipykernel_34988/2595546501.py:15: UserWarning: pandas only supports SQLAlchemy connectable (engine/connection) or database string URI or sqlite3 DBAPI2 connection. Other DBAPI2 objects are not tested. Please consider using SQLAlchemy.\n",
      "  df_block = pd.read_sql(manual_block,conn)\n"
     ]
    }
   ],
   "source": [
    "path = 'tunnel-ssh.cer'\n",
    "manual_block = \"\"\"\n",
    "select \n",
    "    rider_id,\n",
    "    node_node_id,\n",
    "    rider_name,\n",
    "    node_name as hub,\n",
    "    actual_city_name as city,\n",
    "    locus_rider_id\n",
    "from application_db.rider as r \n",
    "left join application_db.node as n on r.node_node_id = n.node_id\n",
    "where rider_id in (6609,6611,6605)\n",
    "\"\"\"\n",
    "conn = get_conn('No',path)\n",
    "df_block = pd.read_sql(manual_block,conn)\n",
    "conn.close()"
   ]
  },
  {
   "cell_type": "code",
   "execution_count": 6,
   "metadata": {},
   "outputs": [
    {
     "data": {
      "text/html": [
       "<div>\n",
       "<style scoped>\n",
       "    .dataframe tbody tr th:only-of-type {\n",
       "        vertical-align: middle;\n",
       "    }\n",
       "\n",
       "    .dataframe tbody tr th {\n",
       "        vertical-align: top;\n",
       "    }\n",
       "\n",
       "    .dataframe thead th {\n",
       "        text-align: right;\n",
       "    }\n",
       "</style>\n",
       "<table border=\"1\" class=\"dataframe\">\n",
       "  <thead>\n",
       "    <tr style=\"text-align: right;\">\n",
       "      <th></th>\n",
       "      <th>rider_id</th>\n",
       "      <th>node_node_id</th>\n",
       "      <th>rider_name</th>\n",
       "      <th>hub</th>\n",
       "      <th>city</th>\n",
       "      <th>locus_rider_id</th>\n",
       "    </tr>\n",
       "  </thead>\n",
       "  <tbody>\n",
       "    <tr>\n",
       "      <th>0</th>\n",
       "      <td>6605</td>\n",
       "      <td>35</td>\n",
       "      <td>Govind</td>\n",
       "      <td>YLHK-Franchise</td>\n",
       "      <td>Bangalore</td>\n",
       "      <td>Govind_8431763889_035</td>\n",
       "    </tr>\n",
       "    <tr>\n",
       "      <th>1</th>\n",
       "      <td>6609</td>\n",
       "      <td>24</td>\n",
       "      <td>rohit raikwar</td>\n",
       "      <td>DS DEL HKMN</td>\n",
       "      <td>Delhi</td>\n",
       "      <td>rohit_9865435128_024</td>\n",
       "    </tr>\n",
       "    <tr>\n",
       "      <th>2</th>\n",
       "      <td>6611</td>\n",
       "      <td>40</td>\n",
       "      <td>javed khan</td>\n",
       "      <td>DS DEL GOKP</td>\n",
       "      <td>NCR</td>\n",
       "      <td>javed_9643422770_040</td>\n",
       "    </tr>\n",
       "  </tbody>\n",
       "</table>\n",
       "</div>"
      ],
      "text/plain": [
       "   rider_id  node_node_id     rider_name             hub       city  \\\n",
       "0      6605            35         Govind  YLHK-Franchise  Bangalore   \n",
       "1      6609            24  rohit raikwar     DS DEL HKMN      Delhi   \n",
       "2      6611            40     javed khan     DS DEL GOKP        NCR   \n",
       "\n",
       "          locus_rider_id  \n",
       "0  Govind_8431763889_035  \n",
       "1   rohit_9865435128_024  \n",
       "2   javed_9643422770_040  "
      ]
     },
     "execution_count": 6,
     "metadata": {},
     "output_type": "execute_result"
    }
   ],
   "source": [
    "df_block"
   ]
  },
  {
   "cell_type": "markdown",
   "metadata": {},
   "source": [
    "Initiating Blocking"
   ]
  },
  {
   "cell_type": "code",
   "execution_count": 7,
   "metadata": {},
   "outputs": [
    {
     "name": "stderr",
     "output_type": "stream",
     "text": [
      "INFO:root:Request for rider_id 6605 - Success\n",
      "INFO:root:Request for rider_id 6609 - Success\n",
      "INFO:root:Request for rider_id 6611 - Success\n"
     ]
    },
    {
     "name": "stdout",
     "output_type": "stream",
     "text": [
      "Rider blocking completed updating database\n",
      "Rider IDs with timeout: []\n"
     ]
    }
   ],
   "source": [
    "# Configure logging\n",
    "logging.basicConfig(level=logging.INFO)\n",
    "\n",
    "# Constants\n",
    "BASE_URL = 'http://grow-simplee-nlb-prod-a264c46571856f67.elb.ap-south-1.amazonaws.com:9001'\n",
    "API_ENDPOINT = '/rider/delist'\n",
    "HEADERS_BASE = {\n",
    "    'name': 'void',  # Change this value if needed\n",
    "    'Content-Type': 'application/json',\n",
    "}\n",
    "\n",
    "# Create a session for making multiple requests\n",
    "session = requests.Session()\n",
    "\n",
    "# List to store rider IDs with timeout\n",
    "timeout_rider_ids = []\n",
    "\n",
    "for index, row in df_block.iterrows():\n",
    "    headers = HEADERS_BASE.copy()\n",
    "    headers['node_id'] = str(row['node_node_id'])\n",
    "\n",
    "    data = {\n",
    "        'delistType': 'BLACKLIST',\n",
    "        'riderIds': [str(row['rider_id'])],\n",
    "    }\n",
    "\n",
    "    url = f\"{BASE_URL}{API_ENDPOINT}\"\n",
    "\n",
    "    try:\n",
    "        response = session.put(url, headers=headers, json=data, timeout=5)\n",
    "        response.raise_for_status()  # Raise an HTTPError for bad responses\n",
    "\n",
    "        json_response = response.json()\n",
    "        message = json_response.get('message', '')\n",
    "        logging.info(f\"Request for rider_id {row['rider_id']} - {message}\")\n",
    "\n",
    "        data = json_response.get('data', [])\n",
    "        for item in data:\n",
    "            rider_id = item.get('riderId', '')\n",
    "            rider_name = item.get('riderName', '')\n",
    "            error_message = item.get('message', '')\n",
    "            logging.info(f\"    Rider ID: {rider_id}, Rider Name: {rider_name}, Error Message: {error_message}\")\n",
    "\n",
    "    except requests.exceptions.Timeout:\n",
    "        logging.error(f\"Timeout occurred for rider_id {row['rider_id']}\")\n",
    "        timeout_rider_ids.append(row['rider_id'])\n",
    "\n",
    "    except requests.exceptions.HTTPError as errh:\n",
    "        logging.error(f\"HTTP Error: {errh}\")\n",
    "    except requests.exceptions.RequestException as err:\n",
    "        logging.error(f\"Request Exception: {err}\")\n",
    "\n",
    "print(\"Rider blocking completed updating database\")\n",
    "\n",
    "# Print or use timeout_rider_ids as needed\n",
    "print(\"Rider IDs with timeout:\", timeout_rider_ids)\n"
   ]
  },
  {
   "cell_type": "markdown",
   "metadata": {},
   "source": [
    "Updating Tables"
   ]
  },
  {
   "cell_type": "code",
   "execution_count": 10,
   "metadata": {},
   "outputs": [
    {
     "name": "stdout",
     "output_type": "stream",
     "text": [
      "Connection Made\n",
      "Updated all closed status to final\n",
      "Deleted blocked riders from running pip\n"
     ]
    }
   ],
   "source": [
    "conn = get_conn('No',path)\n",
    "cursor = conn.cursor()\n",
    "update_query1 = '''\n",
    "    UPDATE rider_pip\n",
    "    SET pip_status = 'final'\n",
    "    WHERE pip_status = 'closed';\n",
    "'''\n",
    "update_query2 = '''\n",
    "delete from rider_pip where pip_status = 'running' and rider_id in \n",
    "(select rider_id from rider_pip where pip_status = 'final' and pip_result = 'failed')\n",
    "'''\n",
    "cursor.execute(update_query1)\n",
    "print(\"Updated all closed status to final\")\n",
    "cursor.execute(update_query2)\n",
    "print(\"Deleted blocked riders from running pip\")\n",
    "conn.commit()\n",
    "cursor.close()\n",
    "conn.close()"
   ]
  },
  {
   "cell_type": "markdown",
   "metadata": {},
   "source": [
    "Sending Closure Mails"
   ]
  },
  {
   "cell_type": "code",
   "execution_count": 11,
   "metadata": {},
   "outputs": [
    {
     "name": "stdout",
     "output_type": "stream",
     "text": [
      "Email sent successfully.\n"
     ]
    }
   ],
   "source": [
    "import smtplib\n",
    "from email.mime.text import MIMEText\n",
    "from email.mime.multipart import MIMEMultipart\n",
    "from datetime import datetime\n",
    "\n",
    "subject = f\"Rider PIP Blocked Riders Report - {datetime.today().strftime('%d/%m/%Y')}\"\n",
    "from_email = \"akshay@blitznow.in\"  # Replace with your email\n",
    "to_email = \"akshay@blitznow.in, sanjay@blitznow.in, david.kumar@blitznow.in, ajay.verma@blitznow.in, biswojit.jena@blitznow.in, chandrakanth.sunkoji@blitznow.in, rahul.yadav@blitznow.in, rahul.lochav@blitznow.in, sourabh.vijay@blitznow.in, sourabh.vijayvergia@blitznow.in, syed.afrid@blitznow.in, anandbellary.hindushree@blitznow.in, dilip.kumar@blitznow.in, ma.saifullah@blitznow.in, shankar.poddar@blitznow.in, sumit.kamble@blitznow.in, anil@blitznow.in\"\n",
    "\n",
    "\n",
    "# Group the DataFrame by 'city' and 'hub' and format the data\n",
    "blocked_riders_by_city_hub = df_block.groupby(['city', 'hub'])\n",
    "email_content = \"<p>Hi Team, These are the riders blocked tonight</p>\"\n",
    "\n",
    "for (city, hub), group in blocked_riders_by_city_hub:\n",
    "    email_content += f\"<p><b>City:</b> {city} <b>Hub:</b> {hub}</p>\"\n",
    "    email_content += group[['locus_rider_id', 'rider_name']].to_html(index=False, justify='center', classes='table', escape=False)\n",
    "\n",
    "# Add inline styles for the table header\n",
    "email_content = email_content.replace('<th>', '<th style=\"background-color: #c7dceb;\">')\n",
    "\n",
    "# Compose the email\n",
    "msg = MIMEMultipart()\n",
    "msg['From'] = from_email\n",
    "msg['To'] = to_email\n",
    "msg['Subject'] = subject\n",
    "\n",
    "# Attach the email content\n",
    "msg.attach(MIMEText(email_content, 'html'))\n",
    "\n",
    "# Connect to the SMTP server and send the email\n",
    "try:\n",
    "    with smtplib.SMTP('smtp.gmail.com', 587) as server:\n",
    "        server.starttls()\n",
    "        server.login(from_email, 'Outofblitz1!')  # Replace with your email password\n",
    "        server.sendmail(from_email, to_email, msg.as_string())\n",
    "    print(\"Email sent successfully.\")\n",
    "except Exception as e:\n",
    "    print(f\"Error sending email: {e}\")\n"
   ]
  },
  {
   "cell_type": "code",
   "execution_count": null,
   "metadata": {},
   "outputs": [],
   "source": []
  }
 ],
 "metadata": {
  "kernelspec": {
   "display_name": ".venv",
   "language": "python",
   "name": "python3"
  },
  "language_info": {
   "codemirror_mode": {
    "name": "ipython",
    "version": 3
   },
   "file_extension": ".py",
   "mimetype": "text/x-python",
   "name": "python",
   "nbconvert_exporter": "python",
   "pygments_lexer": "ipython3",
   "version": "3.12.3"
  }
 },
 "nbformat": 4,
 "nbformat_minor": 2
}
