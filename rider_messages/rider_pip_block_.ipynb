{
 "cells": [
  {
   "cell_type": "code",
   "execution_count": 1,
   "metadata": {},
   "outputs": [
    {
     "name": "stderr",
     "output_type": "stream",
     "text": [
      "/Users/apple/Documents/akshaygrows/.venv/lib/python3.9/site-packages/urllib3/__init__.py:34: NotOpenSSLWarning: urllib3 v2 only supports OpenSSL 1.1.1+, currently the 'ssl' module is compiled with 'LibreSSL 2.8.3'. See: https://github.com/urllib3/urllib3/issues/3020\n",
      "  warnings.warn(\n"
     ]
    }
   ],
   "source": [
    "from postgres_connect import *\n",
    "import requests\n",
    "import logging"
   ]
  },
  {
   "cell_type": "markdown",
   "metadata": {},
   "source": [
    "Getting Data"
   ]
  },
  {
   "cell_type": "code",
   "execution_count": 22,
   "metadata": {},
   "outputs": [],
   "source": [
    "query = '''\n",
    "select r.rider_id, node_node_id, rider_pip.rider_name, rider_pip.hub, rider_pip.shipping_city as city, r.locus_rider_id\n",
    "from rider_pip \n",
    "left join application_db.rider as r on r.locus_rider_id = rider_pip.rider_id\n",
    "where \n",
    "        pip_status = 'final' \n",
    "and     pip_result = 'failed'\n",
    "and     pip_date = '2024-01-08'\n",
    "order by node_node_id\n",
    "'''"
   ]
  },
  {
   "cell_type": "code",
   "execution_count": 23,
   "metadata": {},
   "outputs": [
    {
     "name": "stderr",
     "output_type": "stream",
     "text": [
      "INFO:paramiko.transport:Connected (version 2.0, client OpenSSH_7.4)\n"
     ]
    },
    {
     "name": "stdout",
     "output_type": "stream",
     "text": [
      "Tunnel Started\n"
     ]
    },
    {
     "name": "stderr",
     "output_type": "stream",
     "text": [
      "INFO:paramiko.transport:Authentication (publickey) successful!\n",
      "WARNING:py.warnings:/var/folders/jj/w1s7wr2s7k1b9_vrfwty09pw0000gn/T/ipykernel_27290/666058843.py:4: UserWarning: pandas only supports SQLAlchemy connectable (engine/connection) or database string URI or sqlite3 DBAPI2 connection. Other DBAPI2 objects are not tested. Please consider using SQLAlchemy.\n",
      "  df_block = pd.read_sql(query,conn)\n",
      "\n"
     ]
    },
    {
     "name": "stdout",
     "output_type": "stream",
     "text": [
      "Connection Made\n"
     ]
    }
   ],
   "source": [
    "path = 'tunnel-ssh.cer'\n",
    "# printthis('yes')\n",
    "conn = get_conn('Yes',path)\n",
    "df_block = pd.read_sql(query,conn)\n",
    "conn.close()"
   ]
  },
  {
   "cell_type": "markdown",
   "metadata": {},
   "source": [
    "Initiating Blocking"
   ]
  },
  {
   "cell_type": "code",
   "execution_count": 5,
   "metadata": {},
   "outputs": [
    {
     "name": "stderr",
     "output_type": "stream",
     "text": [
      "INFO:root:Request for rider_id 3565 - Success\n",
      "INFO:root:Request for rider_id 2709 - Success\n",
      "INFO:root:Request for rider_id 3264 - Success\n",
      "INFO:root:Request for rider_id 3512 - Success\n",
      "INFO:root:Request for rider_id 3399 - Success\n",
      "INFO:root:Request for rider_id 3581 - Success\n",
      "INFO:root:Request for rider_id 3618 - Success\n",
      "INFO:root:Request for rider_id 3532 - Success\n",
      "INFO:root:Request for rider_id 3677 - Success\n",
      "INFO:root:Request for rider_id 3688 - Success\n",
      "INFO:root:Request for rider_id 3718 - Success\n",
      "INFO:root:Request for rider_id 3756 - Success\n",
      "INFO:root:Request for rider_id 3438 - Success\n",
      "INFO:root:Request for rider_id 3667 - Success\n",
      "INFO:root:Request for rider_id 2869 - Success\n",
      "INFO:root:Request for rider_id 3772 - Success\n",
      "INFO:root:Request for rider_id 2922 - Success\n",
      "INFO:root:Request for rider_id 3866 - Success\n",
      "INFO:root:Request for rider_id 3843 - Success\n",
      "INFO:root:Request for rider_id 2571 - Success\n",
      "INFO:root:Request for rider_id 3477 - Success\n",
      "INFO:root:Request for rider_id 3599 - Success\n",
      "INFO:root:Request for rider_id 3384 - Success\n",
      "INFO:root:Request for rider_id 3525 - Success\n",
      "INFO:root:Request for rider_id 3530 - Success\n",
      "INFO:root:Request for rider_id 3660 - Success\n",
      "INFO:root:Request for rider_id 3580 - Success\n",
      "ERROR:root:Timeout occurred for rider_id 3521\n",
      "INFO:root:Request for rider_id 3723 - Success\n",
      "INFO:root:Request for rider_id 3536 - Success\n",
      "INFO:root:Request for rider_id 3787 - Success\n",
      "INFO:root:Request for rider_id 2089 - Success\n",
      "INFO:root:Request for rider_id 3350 - Success\n",
      "INFO:root:Request for rider_id 3002 - Success\n",
      "INFO:root:Request for rider_id 3806 - Success\n",
      "INFO:root:Request for rider_id 3628 - Success\n",
      "INFO:root:Request for rider_id 3743 - Success\n",
      "INFO:root:Request for rider_id 3589 - Success\n",
      "INFO:root:Request for rider_id 1622 - Success\n",
      "INFO:root:Request for rider_id 3636 - Success\n"
     ]
    },
    {
     "name": "stdout",
     "output_type": "stream",
     "text": [
      "Rider blocking completed updating database\n",
      "Rider IDs with timeout: [3521]\n"
     ]
    }
   ],
   "source": [
    "# Configure logging\n",
    "logging.basicConfig(level=logging.INFO)\n",
    "\n",
    "# Constants\n",
    "BASE_URL = 'http://grow-simplee-nlb-prod-a264c46571856f67.elb.ap-south-1.amazonaws.com:9001'\n",
    "API_ENDPOINT = '/rider/delist'\n",
    "HEADERS_BASE = {\n",
    "    'name': 'void',  # Change this value if needed\n",
    "    'Content-Type': 'application/json',\n",
    "}\n",
    "\n",
    "# Create a session for making multiple requests\n",
    "session = requests.Session()\n",
    "\n",
    "# List to store rider IDs with timeout\n",
    "timeout_rider_ids = []\n",
    "\n",
    "for index, row in df_block.iterrows():\n",
    "    headers = HEADERS_BASE.copy()\n",
    "    headers['node_id'] = str(row['node_node_id'])\n",
    "\n",
    "    data = {\n",
    "        'delistType': 'BLACKLIST',\n",
    "        'riderIds': [str(row['rider_id'])],\n",
    "    }\n",
    "\n",
    "    url = f\"{BASE_URL}{API_ENDPOINT}\"\n",
    "\n",
    "    try:\n",
    "        response = session.put(url, headers=headers, json=data, timeout=5)\n",
    "        response.raise_for_status()  # Raise an HTTPError for bad responses\n",
    "\n",
    "        json_response = response.json()\n",
    "        message = json_response.get('message', '')\n",
    "        logging.info(f\"Request for rider_id {row['rider_id']} - {message}\")\n",
    "\n",
    "        data = json_response.get('data', [])\n",
    "        for item in data:\n",
    "            rider_id = item.get('riderId', '')\n",
    "            rider_name = item.get('riderName', '')\n",
    "            error_message = item.get('message', '')\n",
    "            logging.info(f\"    Rider ID: {rider_id}, Rider Name: {rider_name}, Error Message: {error_message}\")\n",
    "\n",
    "    except requests.exceptions.Timeout:\n",
    "        logging.error(f\"Timeout occurred for rider_id {row['rider_id']}\")\n",
    "        timeout_rider_ids.append(row['rider_id'])\n",
    "\n",
    "    except requests.exceptions.HTTPError as errh:\n",
    "        logging.error(f\"HTTP Error: {errh}\")\n",
    "    except requests.exceptions.RequestException as err:\n",
    "        logging.error(f\"Request Exception: {err}\")\n",
    "\n",
    "print(\"Rider blocking completed updating database\")\n",
    "\n",
    "# Print or use timeout_rider_ids as needed\n",
    "print(\"Rider IDs with timeout:\", timeout_rider_ids)\n"
   ]
  },
  {
   "cell_type": "markdown",
   "metadata": {},
   "source": [
    "Updating Tables"
   ]
  },
  {
   "cell_type": "code",
   "execution_count": 6,
   "metadata": {},
   "outputs": [
    {
     "name": "stderr",
     "output_type": "stream",
     "text": [
      "INFO:paramiko.transport:Connected (version 2.0, client OpenSSH_7.4)\n"
     ]
    },
    {
     "name": "stdout",
     "output_type": "stream",
     "text": [
      "Tunnel Started\n"
     ]
    },
    {
     "name": "stderr",
     "output_type": "stream",
     "text": [
      "INFO:paramiko.transport:Authentication (publickey) successful!\n"
     ]
    },
    {
     "name": "stdout",
     "output_type": "stream",
     "text": [
      "Connection Made\n",
      "Updated all closed status to final\n",
      "Deleted blocked riders from running pip\n",
      "Updated all closed status to final\n"
     ]
    }
   ],
   "source": [
    "conn = get_conn('Yes',path)\n",
    "cursor = conn.cursor()\n",
    "update_query1 = '''\n",
    "    UPDATE rider_pip\n",
    "    SET pip_status = 'final'\n",
    "    WHERE pip_status = 'closed';\n",
    "'''\n",
    "update_query2 = '''\n",
    "delete from rider_pip where pip_status = 'running' and rider_id in \n",
    "(select rider_id from rider_pip where pip_status = 'final' and pip_result = 'failed')\n",
    "'''\n",
    "cursor.execute(update_query1)\n",
    "print(\"Updated all closed status to final\")\n",
    "cursor.execute(update_query2)\n",
    "print(\"Deleted blocked riders from running pip\")\n",
    "conn.commit()\n",
    "cursor.close()\n",
    "conn.close()"
   ]
  },
  {
   "cell_type": "markdown",
   "metadata": {},
   "source": [
    "Sending Closure Mails"
   ]
  },
  {
   "cell_type": "code",
   "execution_count": 36,
   "metadata": {},
   "outputs": [
    {
     "name": "stdout",
     "output_type": "stream",
     "text": [
      "Email sent successfully.\n"
     ]
    }
   ],
   "source": [
    "import smtplib\n",
    "from email.mime.text import MIMEText\n",
    "from email.mime.multipart import MIMEMultipart\n",
    "from datetime import datetime\n",
    "\n",
    "subject = f\"Rider PIP Blocked Riders Report - {datetime.today().strftime('%d/%m/%Y')}\"\n",
    "from_email = \"akshay@blitznow.in\"  # Replace with your email\n",
    "to_email = \"akshay@blitznow.in, sanjay@blitznow.in, david.kumar@blitznow.in, ajay.verma@blitznow.in, biswojit.jena@blitznow.in, chandrakanth.sunkoji@blitznow.in, rahul.yadav@blitznow.in, rahul.lochav@blitznow.in, sourabh.vijay@blitznow.in, sourabh.vijayvergia@blitznow.in, syed.afrid@blitznow.in, anandbellary.hindushree@blitznow.in, dilip.kumar@blitznow.in, ma.saifullah@blitznow.in, shankar.poddar@blitznow.in, sumit.kamble@blitznow.in, anil@blitznow.in\"\n",
    "\n",
    "\n",
    "# Group the DataFrame by 'city' and 'hub' and format the data\n",
    "blocked_riders_by_city_hub = df_block.groupby(['city', 'hub'])\n",
    "email_content = \"<p>Hi Team, These are the riders blocked tonight</p>\"\n",
    "\n",
    "for (city, hub), group in blocked_riders_by_city_hub:\n",
    "    email_content += f\"<p><b>City:</b> {city} <b>Hub:</b> {hub}</p>\"\n",
    "    email_content += group[['locus_rider_id', 'rider_name']].to_html(index=False, justify='center', classes='table', escape=False)\n",
    "\n",
    "# Add inline styles for the table header\n",
    "email_content = email_content.replace('<th>', '<th style=\"background-color: #c7dceb;\">')\n",
    "\n",
    "# Compose the email\n",
    "msg = MIMEMultipart()\n",
    "msg['From'] = from_email\n",
    "msg['To'] = to_email\n",
    "msg['Subject'] = subject\n",
    "\n",
    "# Attach the email content\n",
    "msg.attach(MIMEText(email_content, 'html'))\n",
    "\n",
    "# Connect to the SMTP server and send the email\n",
    "try:\n",
    "    with smtplib.SMTP('smtp.gmail.com', 587) as server:\n",
    "        server.starttls()\n",
    "        server.login(from_email, 'Outofblitz1!')  # Replace with your email password\n",
    "        server.sendmail(from_email, to_email, msg.as_string())\n",
    "    print(\"Email sent successfully.\")\n",
    "except Exception as e:\n",
    "    print(f\"Error sending email: {e}\")\n"
   ]
  }
 ],
 "metadata": {
  "kernelspec": {
   "display_name": ".venv",
   "language": "python",
   "name": "python3"
  },
  "language_info": {
   "codemirror_mode": {
    "name": "ipython",
    "version": 3
   },
   "file_extension": ".py",
   "mimetype": "text/x-python",
   "name": "python",
   "nbconvert_exporter": "python",
   "pygments_lexer": "ipython3",
   "version": "3.9.6"
  }
 },
 "nbformat": 4,
 "nbformat_minor": 2
}
