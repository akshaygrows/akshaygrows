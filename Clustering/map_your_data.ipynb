{
 "cells": [
  {
   "cell_type": "code",
   "execution_count": 50,
   "metadata": {},
   "outputs": [],
   "source": [
    "import pandas as pd\n",
    "import geopandas as gpd\n",
    "import numpy as np\n",
    "import plotly.express as px\n",
    "import os"
   ]
  },
  {
   "cell_type": "markdown",
   "metadata": {},
   "source": [
    "#!pip install openpyxl geopandas boto3 requests matplotlib plotly nbformat"
   ]
  },
  {
   "cell_type": "code",
   "execution_count": 38,
   "metadata": {},
   "outputs": [],
   "source": [
    "def read_file(file_path):\n",
    "    # Extract the file extension\n",
    "    file_extension = os.path.splitext(file_path)  \n",
    "    file_extension = file_extension[1:].lower()\n",
    "    # Read CSV\n",
    "    if file_extension == 'csv':\n",
    "        return pd.read_csv(file_path)\n",
    "    \n",
    "    # Read Excel\n",
    "    elif file_extension in ['xls', 'xlsx']:\n",
    "        return pd.read_excel(file_path, engine='openpyxl')\n",
    "    \n",
    "    else:\n",
    "        raise ValueError(f\"Unsupported file format: {file_extension}\")\n",
    "    "
   ]
  },
  {
   "cell_type": "code",
   "execution_count": 51,
   "metadata": {},
   "outputs": [
    {
     "name": "stdout",
     "output_type": "stream",
     "text": [
      "   pincode  hub cluster  l7_drr\n",
      "0   400001  KRL  FRT 26     NaN\n",
      "1   400002  KRL  KLB 22     NaN\n",
      "2   400003  KRL  MSJ 25     NaN\n",
      "3   400004  KRL  KLB 22     NaN\n",
      "4   400005  KRL  FRT 26     NaN\n"
     ]
    }
   ],
   "source": [
    "file_path = '/home/akshay/Documents/akshaygrows/Clustering/mumbai2data.xlsx'\n",
    "dataframe = read_file(file_path)\n",
    "print(dataframe.head())\n"
   ]
  },
  {
   "cell_type": "code",
   "execution_count": 40,
   "metadata": {},
   "outputs": [],
   "source": [
    "local_geojson_path = '/home/akshay/Documents/akshaygrows/India_Pincodes/india_pincodes.shp'\n",
    "\n",
    "# Load the GeoJSON content into a GeoDataFrame\n",
    "gdf_geojson = gpd.read_file(local_geojson_path)"
   ]
  },
  {
   "cell_type": "code",
   "execution_count": 44,
   "metadata": {},
   "outputs": [],
   "source": [
    "# Ensure the pincode column datatype is consistent in both dataframes\n",
    "dataframe['pincode'] = dataframe['pincode'].astype(str)\n",
    "gdf_geojson['pincode'] = gdf_geojson['pincode'].astype(str)\n",
    "\n",
    "# Merge the GeoDataFrame and DataFrame based on the pincode column\n",
    "merged_gdf = gdf_geojson.merge(dataframe, on='pincode')\n",
    "\n",
    "# Round up the l7_drr column values and clusters to string\n",
    "merged_gdf['l7_drr'].fillna(0, inplace=True)\n",
    "merged_gdf['l7_drr'] = np.ceil(merged_gdf['l7_drr']).astype(int)\n",
    "merged_gdf['cluster'] = merged_gdf['cluster'].astype(str)"
   ]
  },
  {
   "cell_type": "code",
   "execution_count": 45,
   "metadata": {},
   "outputs": [],
   "source": [
    "# generating correct centroid\n",
    "merged_gdf_projected = merged_gdf.to_crs(epsg=32644)  # Convert to UTM zone 44N (EPSG:32644)\n",
    "centroid = merged_gdf_projected.geometry.centroid   # Calculate centroid\n",
    "centroid_wgs84 = centroid.to_crs(epsg=4326) # Convert centroid back to original CRS (WGS 84) for plotting"
   ]
  },
  {
   "cell_type": "code",
   "execution_count": 49,
   "metadata": {},
   "outputs": [],
   "source": [
    "#function to generate graphs based on clusters or drr input\n",
    "def plot_map(merged_gdf, preference='clusters'):\n",
    "    if preference == 'clusters':\n",
    "        fig = px.choropleth_mapbox(merged_gdf,\n",
    "                           geojson=merged_gdf.geometry,\n",
    "                           locations=merged_gdf.index,\n",
    "                           color='cluster',\n",
    "                           hover_data=['pincode', 'l7_drr', 'cluster'],\n",
    "                           mapbox_style=\"carto-positron\",\n",
    "                           title=\"Clusters by Pincode\",\n",
    "                           center={\"lat\": centroid_wgs84.y.mean(), \"lon\": centroid_wgs84.x.mean()},\n",
    "                           zoom=10,\n",
    "                           opacity=0.5,\n",
    "                           color_discrete_sequence=px.colors.qualitative.Set1)\n",
    "\n",
    "    elif preference == 'drr':\n",
    "        fig = px.choropleth_mapbox(merged_gdf,\n",
    "                                   geojson=merged_gdf.geometry,\n",
    "                                   locations=merged_gdf.index,\n",
    "                                   color='l7_drr',\n",
    "                                   hover_data=['pincode', 'l7_drr', 'cluster'],\n",
    "                                   mapbox_style=\"carto-positron\",\n",
    "                                   title=\"L7 DRR by Pincode\",\n",
    "                                   center={\"lat\": centroid_wgs84.y.mean(), \"lon\": centroid_wgs84.x.mean()},\n",
    "                                   zoom=10,\n",
    "                                   opacity=0.5,\n",
    "                                   color_continuous_scale=\"RdBu_r\",\n",
    "                                   range_color=[merged_gdf['l7_drr'].min(), merged_gdf['l7_drr'].max()]\n",
    "                                   )\n",
    "    else:\n",
    "        print(\"Invalid preference provided. Please choose 'clusters' or 'drr'.\")\n",
    "        return\n",
    "    \n",
    "    fig.update_layout(width=800, height=600, mapbox=dict(bearing=0, pitch=0, zoom=9.5))\n",
    "    return fig"
   ]
  },
  {
   "cell_type": "code",
   "execution_count": null,
   "metadata": {},
   "outputs": [],
   "source": [
    "# Example usage:\n",
    "fig = plot_map(merged_gdf, preference='drr')\n",
    "fig.show()\n",
    "# fig.write_html('mumbai_drr_based.html')"
   ]
  }
 ],
 "metadata": {
  "kernelspec": {
   "display_name": ".venv",
   "language": "python",
   "name": "python3"
  },
  "language_info": {
   "codemirror_mode": {
    "name": "ipython",
    "version": 3
   },
   "file_extension": ".py",
   "mimetype": "text/x-python",
   "name": "python",
   "nbconvert_exporter": "python",
   "pygments_lexer": "ipython3",
   "version": "3.10.12"
  },
  "orig_nbformat": 4
 },
 "nbformat": 4,
 "nbformat_minor": 2
}
