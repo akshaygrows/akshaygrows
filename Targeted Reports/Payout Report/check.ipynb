{
 "cells": [
  {
   "cell_type": "code",
   "execution_count": 1,
   "metadata": {},
   "outputs": [
    {
     "name": "stdout",
     "output_type": "stream",
     "text": [
      "HTML report generated and saved as 'rendered_report.html'\n"
     ]
    }
   ],
   "source": [
    "from jinja2 import Environment, FileSystemLoader\n",
    "import datetime\n",
    "\n",
    "# Create a Jinja2 environment\n",
    "env = Environment(loader=FileSystemLoader('.'))\n",
    "\n",
    "# Load the template\n",
    "template = env.get_template('order2.html')\n",
    "\n",
    "# Define the dynamic values\n",
    "today_date1 = datetime.datetime.now().strftime(\"%Y-%m-%d\")\n",
    "today_pay1= 888  # Replace with actual value\n",
    "month_pay1 = 8888  # Replace with actual value\n",
    "\n",
    "# Render the template with the dynamic values\n",
    "html_content = template.render(today_date=today_date1, today_pay=today_pay1, month_pay=month_pay1)\n",
    "\n",
    "# Save the rendered HTML to a file\n",
    "with open('rendered_report.html', 'w') as file:\n",
    "    file.write(html_content)\n",
    "\n",
    "print(\"HTML report generated and saved as 'rendered_report.html'\")"
   ]
  },
  {
   "cell_type": "code",
   "execution_count": 7,
   "metadata": {},
   "outputs": [
    {
     "name": "stdout",
     "output_type": "stream",
     "text": [
      "Screenshot saved as '/Users/apple/Documents/Work/akshaygrows2/Targeted Reports/Payout Report/report_screenshot.jpg'\n"
     ]
    }
   ],
   "source": [
    "import nest_asyncio\n",
    "import asyncio\n",
    "from playwright.async_api import async_playwright\n",
    "\n",
    "# Apply nest_asyncio to allow nested asyncio loops\n",
    "nest_asyncio.apply()\n",
    "\n",
    "async def run():\n",
    "    async with async_playwright() as p:\n",
    "        browser = await p.chromium.launch()\n",
    "        page = await browser.new_page()\n",
    "        \n",
    "        # Read the HTML file content and set it as the page content\n",
    "        with open(html_file, 'r') as file:\n",
    "            html_content = file.read()\n",
    "        await page.set_content(html_content)\n",
    "        \n",
    "        # Wait for the specific area to load\n",
    "        await page.wait_for_selector('#capture-area')\n",
    "        \n",
    "        # Capture screenshot of the specific area\n",
    "        element = await page.query_selector('#capture-area')\n",
    "        await element.screenshot(path=output_file)\n",
    "        \n",
    "        await browser.close()\n",
    "\n",
    "html_file = '/Users/apple/Documents/Work/akshaygrows2/Targeted Reports/Payout Report/rendered_report.html'\n",
    "output_file = '/Users/apple/Documents/Work/akshaygrows2/Targeted Reports/Payout Report/report_screenshot.jpg'\n",
    "\n",
    "# Run the asynchronous function\n",
    "asyncio.run(run())\n",
    "\n",
    "print(f\"Screenshot saved as '{output_file}'\")"
   ]
  }
 ],
 "metadata": {
  "kernelspec": {
   "display_name": ".venv",
   "language": "python",
   "name": "python3"
  },
  "language_info": {
   "codemirror_mode": {
    "name": "ipython",
    "version": 3
   },
   "file_extension": ".py",
   "mimetype": "text/x-python",
   "name": "python",
   "nbconvert_exporter": "python",
   "pygments_lexer": "ipython3",
   "version": "3.12.3"
  }
 },
 "nbformat": 4,
 "nbformat_minor": 2
}
